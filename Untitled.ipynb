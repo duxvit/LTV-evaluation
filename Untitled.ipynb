{
 "cells": [
  {
   "cell_type": "code",
   "execution_count": 2,
   "id": "7ce25256",
   "metadata": {},
   "outputs": [],
   "source": [
    "import pandas as pd\n",
    "import numpy as np\n",
    "import matplotlib.pyplot as plt\n",
    "import seaborn as sns\n",
    "\n",
    "from scipy import optimize\n",
    "# from fbprophet import Prophet\n",
    "# sns.set(style='white')\n",
    "\n",
    "%matplotlib inline"
   ]
  },
  {
   "cell_type": "code",
   "execution_count": 19,
   "id": "7b7d0236",
   "metadata": {},
   "outputs": [],
   "source": [
    "# reada the data from the link of the google drive\n",
    "url = r'https://drive.google.com/file/d/1L8843A80r50_e-hU79XV_ssAfzgQVUDP/view?usp=sharing'\n",
    "path = 'https://drive.google.com/uc?export=download&id='+url.split('/')[-2]\n",
    "data = pd.read_excel(path)"
   ]
  },
  {
   "cell_type": "code",
   "execution_count": 20,
   "id": "8fa117ec",
   "metadata": {},
   "outputs": [
    {
     "data": {
      "text/html": [
       "<div>\n",
       "<style scoped>\n",
       "    .dataframe tbody tr th:only-of-type {\n",
       "        vertical-align: middle;\n",
       "    }\n",
       "\n",
       "    .dataframe tbody tr th {\n",
       "        vertical-align: top;\n",
       "    }\n",
       "\n",
       "    .dataframe thead th {\n",
       "        text-align: right;\n",
       "    }\n",
       "</style>\n",
       "<table border=\"1\" class=\"dataframe\">\n",
       "  <thead>\n",
       "    <tr style=\"text-align: right;\">\n",
       "      <th></th>\n",
       "      <th>product_id</th>\n",
       "      <th>quantity</th>\n",
       "      <th>is_trial_period</th>\n",
       "      <th>purchase_date</th>\n",
       "      <th>user_id</th>\n",
       "    </tr>\n",
       "  </thead>\n",
       "  <tbody>\n",
       "    <tr>\n",
       "      <th>0</th>\n",
       "      <td>1week_4.99_USD_subscription_7days_trial</td>\n",
       "      <td>1</td>\n",
       "      <td>False</td>\n",
       "      <td>2020-02-19</td>\n",
       "      <td>9484222</td>\n",
       "    </tr>\n",
       "    <tr>\n",
       "      <th>1</th>\n",
       "      <td>1week_4.99_USD_subscription_7days_trial</td>\n",
       "      <td>1</td>\n",
       "      <td>False</td>\n",
       "      <td>2020-02-17</td>\n",
       "      <td>9422402</td>\n",
       "    </tr>\n",
       "    <tr>\n",
       "      <th>2</th>\n",
       "      <td>1week_4.99_USD_subscription_7days_trial</td>\n",
       "      <td>1</td>\n",
       "      <td>False</td>\n",
       "      <td>2020-02-18</td>\n",
       "      <td>4997991</td>\n",
       "    </tr>\n",
       "    <tr>\n",
       "      <th>3</th>\n",
       "      <td>1week_4.99_USD_subscription_7days_trial</td>\n",
       "      <td>1</td>\n",
       "      <td>False</td>\n",
       "      <td>2020-02-18</td>\n",
       "      <td>9455582</td>\n",
       "    </tr>\n",
       "    <tr>\n",
       "      <th>4</th>\n",
       "      <td>1week_4.99_USD_subscription_7days_trial</td>\n",
       "      <td>1</td>\n",
       "      <td>False</td>\n",
       "      <td>2020-02-16</td>\n",
       "      <td>8803657</td>\n",
       "    </tr>\n",
       "  </tbody>\n",
       "</table>\n",
       "</div>"
      ],
      "text/plain": [
       "                                product_id  quantity  is_trial_period  \\\n",
       "0  1week_4.99_USD_subscription_7days_trial         1            False   \n",
       "1  1week_4.99_USD_subscription_7days_trial         1            False   \n",
       "2  1week_4.99_USD_subscription_7days_trial         1            False   \n",
       "3  1week_4.99_USD_subscription_7days_trial         1            False   \n",
       "4  1week_4.99_USD_subscription_7days_trial         1            False   \n",
       "\n",
       "  purchase_date  user_id  \n",
       "0    2020-02-19  9484222  \n",
       "1    2020-02-17  9422402  \n",
       "2    2020-02-18  4997991  \n",
       "3    2020-02-18  9455582  \n",
       "4    2020-02-16  8803657  "
      ]
     },
     "execution_count": 20,
     "metadata": {},
     "output_type": "execute_result"
    }
   ],
   "source": [
    "data.head()"
   ]
  },
  {
   "cell_type": "code",
   "execution_count": 21,
   "id": "a063df74",
   "metadata": {},
   "outputs": [
    {
     "data": {
      "text/plain": [
       "(114200, 5)"
      ]
     },
     "execution_count": 21,
     "metadata": {},
     "output_type": "execute_result"
    }
   ],
   "source": [
    "data.shape"
   ]
  },
  {
   "cell_type": "code",
   "execution_count": 23,
   "id": "7cbe71fe",
   "metadata": {},
   "outputs": [
    {
     "name": "stdout",
     "output_type": "stream",
     "text": [
      "<class 'pandas.core.frame.DataFrame'>\n",
      "RangeIndex: 114200 entries, 0 to 114199\n",
      "Data columns (total 5 columns):\n",
      " #   Column           Non-Null Count   Dtype         \n",
      "---  ------           --------------   -----         \n",
      " 0   product_id       114200 non-null  object        \n",
      " 1   quantity         114200 non-null  int64         \n",
      " 2   is_trial_period  114200 non-null  bool          \n",
      " 3   purchase_date    114200 non-null  datetime64[ns]\n",
      " 4   user_id          114200 non-null  int64         \n",
      "dtypes: bool(1), datetime64[ns](1), int64(2), object(1)\n",
      "memory usage: 3.6+ MB\n"
     ]
    }
   ],
   "source": [
    "# check the types of the columns\n",
    "data.info()"
   ]
  },
  {
   "cell_type": "code",
   "execution_count": 25,
   "id": "ef7db635",
   "metadata": {},
   "outputs": [
    {
     "data": {
      "text/plain": [
       "product_id             1\n",
       "quantity               1\n",
       "is_trial_period        2\n",
       "purchase_date         51\n",
       "user_id            62909\n",
       "dtype: int64"
      ]
     },
     "execution_count": 25,
     "metadata": {},
     "output_type": "execute_result"
    }
   ],
   "source": [
    "# check number of unique values in each column\n",
    "data.nunique()"
   ]
  },
  {
   "cell_type": "code",
   "execution_count": 28,
   "id": "e36929b6",
   "metadata": {},
   "outputs": [
    {
     "data": {
      "text/plain": [
       "product_id         0\n",
       "quantity           0\n",
       "is_trial_period    0\n",
       "purchase_date      0\n",
       "user_id            0\n",
       "dtype: int64"
      ]
     },
     "execution_count": 28,
     "metadata": {},
     "output_type": "execute_result"
    }
   ],
   "source": [
    "# check NA values\n",
    "data.isnull().sum()"
   ]
  },
  {
   "cell_type": "code",
   "execution_count": 30,
   "id": "6e3adbca",
   "metadata": {},
   "outputs": [
    {
     "name": "stdout",
     "output_type": "stream",
     "text": [
      "MAX date:  2020-02-20 00:00:00\n",
      "MIN date:  2020-01-01 00:00:00\n"
     ]
    }
   ],
   "source": [
    "# let's check the maximum date and minimum date\n",
    "print('MAX date: ', data.purchase_date.max())\n",
    "print('MIN date: ', data.purchase_date.min())"
   ]
  },
  {
   "cell_type": "code",
   "execution_count": 31,
   "id": "d5031770",
   "metadata": {},
   "outputs": [
    {
     "data": {
      "text/plain": [
       "51291"
      ]
     },
     "execution_count": 31,
     "metadata": {},
     "output_type": "execute_result"
    }
   ],
   "source": [
    "# check the repeated users in column user_id\n",
    "len(data.user_id) - data.user_id.nunique()"
   ]
  },
  {
   "cell_type": "code",
   "execution_count": 32,
   "id": "253ffabf",
   "metadata": {},
   "outputs": [
    {
     "data": {
      "text/html": [
       "<div>\n",
       "<style scoped>\n",
       "    .dataframe tbody tr th:only-of-type {\n",
       "        vertical-align: middle;\n",
       "    }\n",
       "\n",
       "    .dataframe tbody tr th {\n",
       "        vertical-align: top;\n",
       "    }\n",
       "\n",
       "    .dataframe thead th {\n",
       "        text-align: right;\n",
       "    }\n",
       "</style>\n",
       "<table border=\"1\" class=\"dataframe\">\n",
       "  <thead>\n",
       "    <tr style=\"text-align: right;\">\n",
       "      <th></th>\n",
       "      <th></th>\n",
       "      <th>quantity</th>\n",
       "    </tr>\n",
       "    <tr>\n",
       "      <th>user_id</th>\n",
       "      <th>purchase_date</th>\n",
       "      <th></th>\n",
       "    </tr>\n",
       "  </thead>\n",
       "  <tbody>\n",
       "    <tr>\n",
       "      <th rowspan=\"2\" valign=\"top\">404</th>\n",
       "      <th>2020-02-03</th>\n",
       "      <td>1</td>\n",
       "    </tr>\n",
       "    <tr>\n",
       "      <th>2020-02-10</th>\n",
       "      <td>1</td>\n",
       "    </tr>\n",
       "    <tr>\n",
       "      <th>5337</th>\n",
       "      <th>2020-02-17</th>\n",
       "      <td>1</td>\n",
       "    </tr>\n",
       "    <tr>\n",
       "      <th rowspan=\"2\" valign=\"top\">9010</th>\n",
       "      <th>2020-01-27</th>\n",
       "      <td>1</td>\n",
       "    </tr>\n",
       "    <tr>\n",
       "      <th>2020-02-03</th>\n",
       "      <td>1</td>\n",
       "    </tr>\n",
       "  </tbody>\n",
       "</table>\n",
       "</div>"
      ],
      "text/plain": [
       "                       quantity\n",
       "user_id purchase_date          \n",
       "404     2020-02-03            1\n",
       "        2020-02-10            1\n",
       "5337    2020-02-17            1\n",
       "9010    2020-01-27            1\n",
       "        2020-02-03            1"
      ]
     },
     "execution_count": 32,
     "metadata": {},
     "output_type": "execute_result"
    }
   ],
   "source": [
    "data_2 = data.groupby(['user_id','purchase_date' ]).agg({'quantity' : 'count'})\n",
    "data_2.head()"
   ]
  },
  {
   "cell_type": "code",
   "execution_count": 33,
   "id": "f862b2dc",
   "metadata": {},
   "outputs": [
    {
     "data": {
      "text/html": [
       "<div>\n",
       "<style scoped>\n",
       "    .dataframe tbody tr th:only-of-type {\n",
       "        vertical-align: middle;\n",
       "    }\n",
       "\n",
       "    .dataframe tbody tr th {\n",
       "        vertical-align: top;\n",
       "    }\n",
       "\n",
       "    .dataframe thead th {\n",
       "        text-align: right;\n",
       "    }\n",
       "</style>\n",
       "<table border=\"1\" class=\"dataframe\">\n",
       "  <thead>\n",
       "    <tr style=\"text-align: right;\">\n",
       "      <th></th>\n",
       "      <th></th>\n",
       "      <th>quantity</th>\n",
       "    </tr>\n",
       "    <tr>\n",
       "      <th>user_id</th>\n",
       "      <th>purchase_date</th>\n",
       "      <th></th>\n",
       "    </tr>\n",
       "  </thead>\n",
       "  <tbody>\n",
       "    <tr>\n",
       "      <th>7346601</th>\n",
       "      <th>2020-01-14</th>\n",
       "      <td>3</td>\n",
       "    </tr>\n",
       "    <tr>\n",
       "      <th>8269588</th>\n",
       "      <th>2020-01-03</th>\n",
       "      <td>3</td>\n",
       "    </tr>\n",
       "    <tr>\n",
       "      <th>8364086</th>\n",
       "      <th>2020-01-05</th>\n",
       "      <td>3</td>\n",
       "    </tr>\n",
       "    <tr>\n",
       "      <th>8450482</th>\n",
       "      <th>2020-01-08</th>\n",
       "      <td>3</td>\n",
       "    </tr>\n",
       "    <tr>\n",
       "      <th>8486473</th>\n",
       "      <th>2020-01-09</th>\n",
       "      <td>3</td>\n",
       "    </tr>\n",
       "    <tr>\n",
       "      <th>8577778</th>\n",
       "      <th>2020-01-12</th>\n",
       "      <td>3</td>\n",
       "    </tr>\n",
       "    <tr>\n",
       "      <th>8671902</th>\n",
       "      <th>2020-01-22</th>\n",
       "      <td>3</td>\n",
       "    </tr>\n",
       "    <tr>\n",
       "      <th>8752195</th>\n",
       "      <th>2020-01-18</th>\n",
       "      <td>3</td>\n",
       "    </tr>\n",
       "    <tr>\n",
       "      <th>8805046</th>\n",
       "      <th>2020-01-19</th>\n",
       "      <td>3</td>\n",
       "    </tr>\n",
       "    <tr>\n",
       "      <th>8928229</th>\n",
       "      <th>2020-01-23</th>\n",
       "      <td>3</td>\n",
       "    </tr>\n",
       "    <tr>\n",
       "      <th>9004386</th>\n",
       "      <th>2020-01-26</th>\n",
       "      <td>3</td>\n",
       "    </tr>\n",
       "    <tr>\n",
       "      <th>9036347</th>\n",
       "      <th>2020-01-28</th>\n",
       "      <td>3</td>\n",
       "    </tr>\n",
       "    <tr>\n",
       "      <th>9363812</th>\n",
       "      <th>2020-02-07</th>\n",
       "      <td>3</td>\n",
       "    </tr>\n",
       "    <tr>\n",
       "      <th>9527949</th>\n",
       "      <th>2020-02-13</th>\n",
       "      <td>3</td>\n",
       "    </tr>\n",
       "    <tr>\n",
       "      <th>9584301</th>\n",
       "      <th>2020-02-16</th>\n",
       "      <td>7</td>\n",
       "    </tr>\n",
       "  </tbody>\n",
       "</table>\n",
       "</div>"
      ],
      "text/plain": [
       "                       quantity\n",
       "user_id purchase_date          \n",
       "7346601 2020-01-14            3\n",
       "8269588 2020-01-03            3\n",
       "8364086 2020-01-05            3\n",
       "8450482 2020-01-08            3\n",
       "8486473 2020-01-09            3\n",
       "8577778 2020-01-12            3\n",
       "8671902 2020-01-22            3\n",
       "8752195 2020-01-18            3\n",
       "8805046 2020-01-19            3\n",
       "8928229 2020-01-23            3\n",
       "9004386 2020-01-26            3\n",
       "9036347 2020-01-28            3\n",
       "9363812 2020-02-07            3\n",
       "9527949 2020-02-13            3\n",
       "9584301 2020-02-16            7"
      ]
     },
     "execution_count": 33,
     "metadata": {},
     "output_type": "execute_result"
    }
   ],
   "source": [
    "# check users, who purchased more than once in one day\n",
    "data_2[data_2['quantity'] > 2]"
   ]
  },
  {
   "cell_type": "code",
   "execution_count": 35,
   "id": "0d2d95ae",
   "metadata": {},
   "outputs": [
    {
     "data": {
      "text/html": [
       "<div>\n",
       "<style scoped>\n",
       "    .dataframe tbody tr th:only-of-type {\n",
       "        vertical-align: middle;\n",
       "    }\n",
       "\n",
       "    .dataframe tbody tr th {\n",
       "        vertical-align: top;\n",
       "    }\n",
       "\n",
       "    .dataframe thead th {\n",
       "        text-align: right;\n",
       "    }\n",
       "</style>\n",
       "<table border=\"1\" class=\"dataframe\">\n",
       "  <thead>\n",
       "    <tr style=\"text-align: right;\">\n",
       "      <th></th>\n",
       "      <th>product_id</th>\n",
       "      <th>quantity</th>\n",
       "      <th>is_trial_period</th>\n",
       "      <th>purchase_date</th>\n",
       "      <th>user_id</th>\n",
       "    </tr>\n",
       "  </thead>\n",
       "  <tbody>\n",
       "    <tr>\n",
       "      <th>7701</th>\n",
       "      <td>1week_4.99_USD_subscription_7days_trial</td>\n",
       "      <td>1</td>\n",
       "      <td>True</td>\n",
       "      <td>2020-01-14</td>\n",
       "      <td>7346601</td>\n",
       "    </tr>\n",
       "    <tr>\n",
       "      <th>14359</th>\n",
       "      <td>1week_4.99_USD_subscription_7days_trial</td>\n",
       "      <td>1</td>\n",
       "      <td>True</td>\n",
       "      <td>2020-01-14</td>\n",
       "      <td>7346601</td>\n",
       "    </tr>\n",
       "    <tr>\n",
       "      <th>18403</th>\n",
       "      <td>1week_4.99_USD_subscription_7days_trial</td>\n",
       "      <td>1</td>\n",
       "      <td>True</td>\n",
       "      <td>2020-01-14</td>\n",
       "      <td>7346601</td>\n",
       "    </tr>\n",
       "    <tr>\n",
       "      <th>65342</th>\n",
       "      <td>1week_4.99_USD_subscription_7days_trial</td>\n",
       "      <td>1</td>\n",
       "      <td>False</td>\n",
       "      <td>2020-01-21</td>\n",
       "      <td>7346601</td>\n",
       "    </tr>\n",
       "    <tr>\n",
       "      <th>62398</th>\n",
       "      <td>1week_4.99_USD_subscription_7days_trial</td>\n",
       "      <td>1</td>\n",
       "      <td>False</td>\n",
       "      <td>2020-01-28</td>\n",
       "      <td>7346601</td>\n",
       "    </tr>\n",
       "    <tr>\n",
       "      <th>77209</th>\n",
       "      <td>1week_4.99_USD_subscription_7days_trial</td>\n",
       "      <td>1</td>\n",
       "      <td>False</td>\n",
       "      <td>2020-02-04</td>\n",
       "      <td>7346601</td>\n",
       "    </tr>\n",
       "    <tr>\n",
       "      <th>45590</th>\n",
       "      <td>1week_4.99_USD_subscription_7days_trial</td>\n",
       "      <td>1</td>\n",
       "      <td>False</td>\n",
       "      <td>2020-02-11</td>\n",
       "      <td>7346601</td>\n",
       "    </tr>\n",
       "    <tr>\n",
       "      <th>44656</th>\n",
       "      <td>1week_4.99_USD_subscription_7days_trial</td>\n",
       "      <td>1</td>\n",
       "      <td>False</td>\n",
       "      <td>2020-02-18</td>\n",
       "      <td>7346601</td>\n",
       "    </tr>\n",
       "  </tbody>\n",
       "</table>\n",
       "</div>"
      ],
      "text/plain": [
       "                                    product_id  quantity  is_trial_period  \\\n",
       "7701   1week_4.99_USD_subscription_7days_trial         1             True   \n",
       "14359  1week_4.99_USD_subscription_7days_trial         1             True   \n",
       "18403  1week_4.99_USD_subscription_7days_trial         1             True   \n",
       "65342  1week_4.99_USD_subscription_7days_trial         1            False   \n",
       "62398  1week_4.99_USD_subscription_7days_trial         1            False   \n",
       "77209  1week_4.99_USD_subscription_7days_trial         1            False   \n",
       "45590  1week_4.99_USD_subscription_7days_trial         1            False   \n",
       "44656  1week_4.99_USD_subscription_7days_trial         1            False   \n",
       "\n",
       "      purchase_date  user_id  \n",
       "7701     2020-01-14  7346601  \n",
       "14359    2020-01-14  7346601  \n",
       "18403    2020-01-14  7346601  \n",
       "65342    2020-01-21  7346601  \n",
       "62398    2020-01-28  7346601  \n",
       "77209    2020-02-04  7346601  \n",
       "45590    2020-02-11  7346601  \n",
       "44656    2020-02-18  7346601  "
      ]
     },
     "execution_count": 35,
     "metadata": {},
     "output_type": "execute_result"
    }
   ],
   "source": [
    "data[data['user_id'] ==7346601].sort_values('purchase_date')"
   ]
  },
  {
   "cell_type": "code",
   "execution_count": 36,
   "id": "28646bf9",
   "metadata": {},
   "outputs": [],
   "source": [
    "# Repeated rows looks, like duplicates. We can delete them"
   ]
  },
  {
   "cell_type": "code",
   "execution_count": 37,
   "id": "a0410ef2",
   "metadata": {},
   "outputs": [],
   "source": [
    "# drop duplicates. There are 84 duplicates\n",
    "data = data.drop_duplicates()"
   ]
  },
  {
   "cell_type": "code",
   "execution_count": 46,
   "id": "e0c11597",
   "metadata": {},
   "outputs": [],
   "source": [
    "# add price to sum this price for each user\n",
    "data.loc[:, 'price'] = 0\n",
    "# assign a value = 0 for users who did not buy (is_trial_period == True)\n",
    "data.loc[data.is_trial_period == False, 'price'] = 4.99"
   ]
  },
  {
   "cell_type": "code",
   "execution_count": 48,
   "id": "0d0ce24a",
   "metadata": {},
   "outputs": [
    {
     "data": {
      "text/html": [
       "<div>\n",
       "<style scoped>\n",
       "    .dataframe tbody tr th:only-of-type {\n",
       "        vertical-align: middle;\n",
       "    }\n",
       "\n",
       "    .dataframe tbody tr th {\n",
       "        vertical-align: top;\n",
       "    }\n",
       "\n",
       "    .dataframe thead th {\n",
       "        text-align: right;\n",
       "    }\n",
       "</style>\n",
       "<table border=\"1\" class=\"dataframe\">\n",
       "  <thead>\n",
       "    <tr style=\"text-align: right;\">\n",
       "      <th></th>\n",
       "      <th>product_id</th>\n",
       "      <th>quantity</th>\n",
       "      <th>is_trial_period</th>\n",
       "      <th>purchase_date</th>\n",
       "      <th>user_id</th>\n",
       "      <th>price</th>\n",
       "    </tr>\n",
       "  </thead>\n",
       "  <tbody>\n",
       "    <tr>\n",
       "      <th>0</th>\n",
       "      <td>1week_4.99_USD_subscription_7days_trial</td>\n",
       "      <td>1</td>\n",
       "      <td>False</td>\n",
       "      <td>2020-02-19</td>\n",
       "      <td>9484222</td>\n",
       "      <td>4.99</td>\n",
       "    </tr>\n",
       "    <tr>\n",
       "      <th>1</th>\n",
       "      <td>1week_4.99_USD_subscription_7days_trial</td>\n",
       "      <td>1</td>\n",
       "      <td>False</td>\n",
       "      <td>2020-02-17</td>\n",
       "      <td>9422402</td>\n",
       "      <td>4.99</td>\n",
       "    </tr>\n",
       "    <tr>\n",
       "      <th>2</th>\n",
       "      <td>1week_4.99_USD_subscription_7days_trial</td>\n",
       "      <td>1</td>\n",
       "      <td>False</td>\n",
       "      <td>2020-02-18</td>\n",
       "      <td>4997991</td>\n",
       "      <td>4.99</td>\n",
       "    </tr>\n",
       "    <tr>\n",
       "      <th>3</th>\n",
       "      <td>1week_4.99_USD_subscription_7days_trial</td>\n",
       "      <td>1</td>\n",
       "      <td>False</td>\n",
       "      <td>2020-02-18</td>\n",
       "      <td>9455582</td>\n",
       "      <td>4.99</td>\n",
       "    </tr>\n",
       "    <tr>\n",
       "      <th>4</th>\n",
       "      <td>1week_4.99_USD_subscription_7days_trial</td>\n",
       "      <td>1</td>\n",
       "      <td>False</td>\n",
       "      <td>2020-02-16</td>\n",
       "      <td>8803657</td>\n",
       "      <td>4.99</td>\n",
       "    </tr>\n",
       "  </tbody>\n",
       "</table>\n",
       "</div>"
      ],
      "text/plain": [
       "                                product_id  quantity  is_trial_period  \\\n",
       "0  1week_4.99_USD_subscription_7days_trial         1            False   \n",
       "1  1week_4.99_USD_subscription_7days_trial         1            False   \n",
       "2  1week_4.99_USD_subscription_7days_trial         1            False   \n",
       "3  1week_4.99_USD_subscription_7days_trial         1            False   \n",
       "4  1week_4.99_USD_subscription_7days_trial         1            False   \n",
       "\n",
       "  purchase_date  user_id  price  \n",
       "0    2020-02-19  9484222   4.99  \n",
       "1    2020-02-17  9422402   4.99  \n",
       "2    2020-02-18  4997991   4.99  \n",
       "3    2020-02-18  9455582   4.99  \n",
       "4    2020-02-16  8803657   4.99  "
      ]
     },
     "execution_count": 48,
     "metadata": {},
     "output_type": "execute_result"
    }
   ],
   "source": [
    "data.head()"
   ]
  },
  {
   "cell_type": "code",
   "execution_count": 52,
   "id": "d57e6a64",
   "metadata": {},
   "outputs": [
    {
     "data": {
      "text/html": [
       "<div>\n",
       "<style scoped>\n",
       "    .dataframe tbody tr th:only-of-type {\n",
       "        vertical-align: middle;\n",
       "    }\n",
       "\n",
       "    .dataframe tbody tr th {\n",
       "        vertical-align: top;\n",
       "    }\n",
       "\n",
       "    .dataframe thead th {\n",
       "        text-align: right;\n",
       "    }\n",
       "</style>\n",
       "<table border=\"1\" class=\"dataframe\">\n",
       "  <thead>\n",
       "    <tr style=\"text-align: right;\">\n",
       "      <th></th>\n",
       "      <th>reg_day</th>\n",
       "    </tr>\n",
       "    <tr>\n",
       "      <th>user_id</th>\n",
       "      <th></th>\n",
       "    </tr>\n",
       "  </thead>\n",
       "  <tbody>\n",
       "    <tr>\n",
       "      <th>404</th>\n",
       "      <td>2020-02-03</td>\n",
       "    </tr>\n",
       "    <tr>\n",
       "      <th>5337</th>\n",
       "      <td>2020-02-17</td>\n",
       "    </tr>\n",
       "    <tr>\n",
       "      <th>9010</th>\n",
       "      <td>2020-01-27</td>\n",
       "    </tr>\n",
       "    <tr>\n",
       "      <th>19880</th>\n",
       "      <td>2020-01-30</td>\n",
       "    </tr>\n",
       "    <tr>\n",
       "      <th>23403</th>\n",
       "      <td>2020-01-20</td>\n",
       "    </tr>\n",
       "  </tbody>\n",
       "</table>\n",
       "</div>"
      ],
      "text/plain": [
       "           reg_day\n",
       "user_id           \n",
       "404     2020-02-03\n",
       "5337    2020-02-17\n",
       "9010    2020-01-27\n",
       "19880   2020-01-30\n",
       "23403   2020-01-20"
      ]
     },
     "execution_count": 52,
     "metadata": {},
     "output_type": "execute_result"
    }
   ],
   "source": [
    "# create table with first reg date\n",
    "data_reg = data.groupby('user_id').agg({'purchase_date' : 'min'}).rename(columns={'purchase_date' : 'reg_day'})\n",
    "data_reg.head()"
   ]
  },
  {
   "cell_type": "code",
   "execution_count": 54,
   "id": "279d9074",
   "metadata": {},
   "outputs": [
    {
     "data": {
      "text/html": [
       "<div>\n",
       "<style scoped>\n",
       "    .dataframe tbody tr th:only-of-type {\n",
       "        vertical-align: middle;\n",
       "    }\n",
       "\n",
       "    .dataframe tbody tr th {\n",
       "        vertical-align: top;\n",
       "    }\n",
       "\n",
       "    .dataframe thead th {\n",
       "        text-align: right;\n",
       "    }\n",
       "</style>\n",
       "<table border=\"1\" class=\"dataframe\">\n",
       "  <thead>\n",
       "    <tr style=\"text-align: right;\">\n",
       "      <th></th>\n",
       "      <th>product_id</th>\n",
       "      <th>quantity</th>\n",
       "      <th>is_trial_period</th>\n",
       "      <th>purchase_date</th>\n",
       "      <th>user_id</th>\n",
       "      <th>price</th>\n",
       "      <th>reg_day</th>\n",
       "    </tr>\n",
       "  </thead>\n",
       "  <tbody>\n",
       "    <tr>\n",
       "      <th>0</th>\n",
       "      <td>1week_4.99_USD_subscription_7days_trial</td>\n",
       "      <td>1</td>\n",
       "      <td>False</td>\n",
       "      <td>2020-02-19</td>\n",
       "      <td>9484222</td>\n",
       "      <td>4.99</td>\n",
       "      <td>2020-02-12</td>\n",
       "    </tr>\n",
       "    <tr>\n",
       "      <th>1</th>\n",
       "      <td>1week_4.99_USD_subscription_7days_trial</td>\n",
       "      <td>1</td>\n",
       "      <td>False</td>\n",
       "      <td>2020-02-17</td>\n",
       "      <td>9422402</td>\n",
       "      <td>4.99</td>\n",
       "      <td>2020-02-10</td>\n",
       "    </tr>\n",
       "    <tr>\n",
       "      <th>2</th>\n",
       "      <td>1week_4.99_USD_subscription_7days_trial</td>\n",
       "      <td>1</td>\n",
       "      <td>False</td>\n",
       "      <td>2020-02-18</td>\n",
       "      <td>4997991</td>\n",
       "      <td>4.99</td>\n",
       "      <td>2020-02-11</td>\n",
       "    </tr>\n",
       "    <tr>\n",
       "      <th>3</th>\n",
       "      <td>1week_4.99_USD_subscription_7days_trial</td>\n",
       "      <td>1</td>\n",
       "      <td>False</td>\n",
       "      <td>2020-02-18</td>\n",
       "      <td>9455582</td>\n",
       "      <td>4.99</td>\n",
       "      <td>2020-02-11</td>\n",
       "    </tr>\n",
       "    <tr>\n",
       "      <th>4</th>\n",
       "      <td>1week_4.99_USD_subscription_7days_trial</td>\n",
       "      <td>1</td>\n",
       "      <td>False</td>\n",
       "      <td>2020-02-16</td>\n",
       "      <td>8803657</td>\n",
       "      <td>4.99</td>\n",
       "      <td>2020-01-19</td>\n",
       "    </tr>\n",
       "  </tbody>\n",
       "</table>\n",
       "</div>"
      ],
      "text/plain": [
       "                                product_id  quantity  is_trial_period  \\\n",
       "0  1week_4.99_USD_subscription_7days_trial         1            False   \n",
       "1  1week_4.99_USD_subscription_7days_trial         1            False   \n",
       "2  1week_4.99_USD_subscription_7days_trial         1            False   \n",
       "3  1week_4.99_USD_subscription_7days_trial         1            False   \n",
       "4  1week_4.99_USD_subscription_7days_trial         1            False   \n",
       "\n",
       "  purchase_date  user_id  price    reg_day  \n",
       "0    2020-02-19  9484222   4.99 2020-02-12  \n",
       "1    2020-02-17  9422402   4.99 2020-02-10  \n",
       "2    2020-02-18  4997991   4.99 2020-02-11  \n",
       "3    2020-02-18  9455582   4.99 2020-02-11  \n",
       "4    2020-02-16  8803657   4.99 2020-01-19  "
      ]
     },
     "execution_count": 54,
     "metadata": {},
     "output_type": "execute_result"
    }
   ],
   "source": [
    "# add reg date to our data\n",
    "data = data.merge(data_reg, how='left', on='user_id')\n",
    "data.head()"
   ]
  },
  {
   "cell_type": "code",
   "execution_count": null,
   "id": "3de0ea88",
   "metadata": {},
   "outputs": [],
   "source": [
    "# #Добавим новые столбцы с инофрмацией об активности по неделям\n",
    "# df['activity_week'] = df['purchase_date'].astype('datetime64[W]')\n",
    "# df['cohort_by_first_session_week'] = df['cohort_by_first_session'].astype('datetime64[W]')\n",
    "\n",
    "# df.head()"
   ]
  },
  {
   "cell_type": "code",
   "execution_count": 114,
   "id": "b17d0741",
   "metadata": {},
   "outputs": [],
   "source": [
    "# add new cols of the purchase week and registration week\n",
    "data['purchase_week'] = data['purchase_date'] - data['purchase_date'].dt.weekday.astype('timedelta64[D]')\n",
    "data['reg_week']      = data['reg_day'] - data['reg_day'].dt.weekday.astype('timedelta64[D]')\n"
   ]
  },
  {
   "cell_type": "code",
   "execution_count": 115,
   "id": "286af68a",
   "metadata": {},
   "outputs": [
    {
     "data": {
      "text/html": [
       "<div>\n",
       "<style scoped>\n",
       "    .dataframe tbody tr th:only-of-type {\n",
       "        vertical-align: middle;\n",
       "    }\n",
       "\n",
       "    .dataframe tbody tr th {\n",
       "        vertical-align: top;\n",
       "    }\n",
       "\n",
       "    .dataframe thead th {\n",
       "        text-align: right;\n",
       "    }\n",
       "</style>\n",
       "<table border=\"1\" class=\"dataframe\">\n",
       "  <thead>\n",
       "    <tr style=\"text-align: right;\">\n",
       "      <th></th>\n",
       "      <th>product_id</th>\n",
       "      <th>quantity</th>\n",
       "      <th>is_trial_period</th>\n",
       "      <th>purchase_date</th>\n",
       "      <th>user_id</th>\n",
       "      <th>price</th>\n",
       "      <th>reg_day</th>\n",
       "      <th>purchase_week</th>\n",
       "      <th>reg_week</th>\n",
       "      <th>cohort_lifetime</th>\n",
       "    </tr>\n",
       "  </thead>\n",
       "  <tbody>\n",
       "    <tr>\n",
       "      <th>0</th>\n",
       "      <td>1week_4.99_USD_subscription_7days_trial</td>\n",
       "      <td>1</td>\n",
       "      <td>False</td>\n",
       "      <td>2020-02-19</td>\n",
       "      <td>9484222</td>\n",
       "      <td>4.99</td>\n",
       "      <td>2020-02-12</td>\n",
       "      <td>2020-02-17</td>\n",
       "      <td>2020-02-10</td>\n",
       "      <td>1</td>\n",
       "    </tr>\n",
       "    <tr>\n",
       "      <th>1</th>\n",
       "      <td>1week_4.99_USD_subscription_7days_trial</td>\n",
       "      <td>1</td>\n",
       "      <td>False</td>\n",
       "      <td>2020-02-17</td>\n",
       "      <td>9422402</td>\n",
       "      <td>4.99</td>\n",
       "      <td>2020-02-10</td>\n",
       "      <td>2020-02-17</td>\n",
       "      <td>2020-02-10</td>\n",
       "      <td>1</td>\n",
       "    </tr>\n",
       "    <tr>\n",
       "      <th>2</th>\n",
       "      <td>1week_4.99_USD_subscription_7days_trial</td>\n",
       "      <td>1</td>\n",
       "      <td>False</td>\n",
       "      <td>2020-02-18</td>\n",
       "      <td>4997991</td>\n",
       "      <td>4.99</td>\n",
       "      <td>2020-02-11</td>\n",
       "      <td>2020-02-17</td>\n",
       "      <td>2020-02-10</td>\n",
       "      <td>1</td>\n",
       "    </tr>\n",
       "    <tr>\n",
       "      <th>3</th>\n",
       "      <td>1week_4.99_USD_subscription_7days_trial</td>\n",
       "      <td>1</td>\n",
       "      <td>False</td>\n",
       "      <td>2020-02-18</td>\n",
       "      <td>9455582</td>\n",
       "      <td>4.99</td>\n",
       "      <td>2020-02-11</td>\n",
       "      <td>2020-02-17</td>\n",
       "      <td>2020-02-10</td>\n",
       "      <td>1</td>\n",
       "    </tr>\n",
       "    <tr>\n",
       "      <th>4</th>\n",
       "      <td>1week_4.99_USD_subscription_7days_trial</td>\n",
       "      <td>1</td>\n",
       "      <td>False</td>\n",
       "      <td>2020-02-16</td>\n",
       "      <td>8803657</td>\n",
       "      <td>4.99</td>\n",
       "      <td>2020-01-19</td>\n",
       "      <td>2020-02-10</td>\n",
       "      <td>2020-01-13</td>\n",
       "      <td>4</td>\n",
       "    </tr>\n",
       "  </tbody>\n",
       "</table>\n",
       "</div>"
      ],
      "text/plain": [
       "                                product_id  quantity  is_trial_period  \\\n",
       "0  1week_4.99_USD_subscription_7days_trial         1            False   \n",
       "1  1week_4.99_USD_subscription_7days_trial         1            False   \n",
       "2  1week_4.99_USD_subscription_7days_trial         1            False   \n",
       "3  1week_4.99_USD_subscription_7days_trial         1            False   \n",
       "4  1week_4.99_USD_subscription_7days_trial         1            False   \n",
       "\n",
       "  purchase_date  user_id  price    reg_day purchase_week   reg_week  \\\n",
       "0    2020-02-19  9484222   4.99 2020-02-12    2020-02-17 2020-02-10   \n",
       "1    2020-02-17  9422402   4.99 2020-02-10    2020-02-17 2020-02-10   \n",
       "2    2020-02-18  4997991   4.99 2020-02-11    2020-02-17 2020-02-10   \n",
       "3    2020-02-18  9455582   4.99 2020-02-11    2020-02-17 2020-02-10   \n",
       "4    2020-02-16  8803657   4.99 2020-01-19    2020-02-10 2020-01-13   \n",
       "\n",
       "   cohort_lifetime  \n",
       "0                1  \n",
       "1                1  \n",
       "2                1  \n",
       "3                1  \n",
       "4                4  "
      ]
     },
     "execution_count": 115,
     "metadata": {},
     "output_type": "execute_result"
    }
   ],
   "source": [
    "# find the cohort life time\n",
    "data['cohort_lifetime'] = ((data['purchase_week'] - data['reg_week'])/ np.timedelta64(7,'D')).astype(int)\n",
    "data.head()"
   ]
  },
  {
   "cell_type": "code",
   "execution_count": null,
   "id": "71146321",
   "metadata": {},
   "outputs": [],
   "source": [
    "# # Посчитаем количество новых юзеров в неделю\n",
    "# cohort_size = df.groupby(['cohort_by_first_session_week'])\\\n",
    "#             .agg({'user_id':'nunique'}).reset_index()\\\n",
    "#             .rename(columns={'user_id':'w_n_users'})\n",
    "# cohort_size.head()"
   ]
  },
  {
   "cell_type": "code",
   "execution_count": 163,
   "id": "75475815",
   "metadata": {},
   "outputs": [],
   "source": [
    "cohort_size = data.groupby(['reg_week']) \\\n",
    "              .agg({'user_id' : 'nunique'})\\\n",
    "              .reset_index() \\\n",
    "              .rename(columns={'user_id': 'weekly_users'})"
   ]
  },
  {
   "cell_type": "code",
   "execution_count": 164,
   "id": "95630f32",
   "metadata": {},
   "outputs": [
    {
     "data": {
      "text/html": [
       "<div>\n",
       "<style scoped>\n",
       "    .dataframe tbody tr th:only-of-type {\n",
       "        vertical-align: middle;\n",
       "    }\n",
       "\n",
       "    .dataframe tbody tr th {\n",
       "        vertical-align: top;\n",
       "    }\n",
       "\n",
       "    .dataframe thead th {\n",
       "        text-align: right;\n",
       "    }\n",
       "</style>\n",
       "<table border=\"1\" class=\"dataframe\">\n",
       "  <thead>\n",
       "    <tr style=\"text-align: right;\">\n",
       "      <th></th>\n",
       "      <th>reg_week</th>\n",
       "      <th>weekly_users</th>\n",
       "    </tr>\n",
       "  </thead>\n",
       "  <tbody>\n",
       "    <tr>\n",
       "      <th>0</th>\n",
       "      <td>2019-12-30</td>\n",
       "      <td>6629</td>\n",
       "    </tr>\n",
       "    <tr>\n",
       "      <th>1</th>\n",
       "      <td>2020-01-06</td>\n",
       "      <td>8429</td>\n",
       "    </tr>\n",
       "    <tr>\n",
       "      <th>2</th>\n",
       "      <td>2020-01-13</td>\n",
       "      <td>9134</td>\n",
       "    </tr>\n",
       "    <tr>\n",
       "      <th>3</th>\n",
       "      <td>2020-01-20</td>\n",
       "      <td>8185</td>\n",
       "    </tr>\n",
       "    <tr>\n",
       "      <th>4</th>\n",
       "      <td>2020-01-27</td>\n",
       "      <td>8315</td>\n",
       "    </tr>\n",
       "    <tr>\n",
       "      <th>5</th>\n",
       "      <td>2020-02-03</td>\n",
       "      <td>9066</td>\n",
       "    </tr>\n",
       "    <tr>\n",
       "      <th>6</th>\n",
       "      <td>2020-02-10</td>\n",
       "      <td>9038</td>\n",
       "    </tr>\n",
       "    <tr>\n",
       "      <th>7</th>\n",
       "      <td>2020-02-17</td>\n",
       "      <td>4113</td>\n",
       "    </tr>\n",
       "  </tbody>\n",
       "</table>\n",
       "</div>"
      ],
      "text/plain": [
       "    reg_week  weekly_users\n",
       "0 2019-12-30          6629\n",
       "1 2020-01-06          8429\n",
       "2 2020-01-13          9134\n",
       "3 2020-01-20          8185\n",
       "4 2020-01-27          8315\n",
       "5 2020-02-03          9066\n",
       "6 2020-02-10          9038\n",
       "7 2020-02-17          4113"
      ]
     },
     "execution_count": 164,
     "metadata": {},
     "output_type": "execute_result"
    }
   ],
   "source": [
    "cohort_size"
   ]
  },
  {
   "cell_type": "code",
   "execution_count": 165,
   "id": "7ee07747",
   "metadata": {},
   "outputs": [],
   "source": [
    "# df.groupby(['cohort_by_first_session_week','cohort_lifetime'])\\\n",
    "#                              .agg({'revenue':'sum'})\\\n",
    "#                              .groupby(level=0).cumsum()\\\n",
    "#                              .rename(columns={'revenue':'cohort_cumsum'}).reset_index()"
   ]
  },
  {
   "cell_type": "code",
   "execution_count": null,
   "id": "2ca655e2",
   "metadata": {},
   "outputs": [],
   "source": []
  },
  {
   "cell_type": "code",
   "execution_count": 166,
   "id": "ffc94037",
   "metadata": {},
   "outputs": [
    {
     "data": {
      "text/html": [
       "<div>\n",
       "<style scoped>\n",
       "    .dataframe tbody tr th:only-of-type {\n",
       "        vertical-align: middle;\n",
       "    }\n",
       "\n",
       "    .dataframe tbody tr th {\n",
       "        vertical-align: top;\n",
       "    }\n",
       "\n",
       "    .dataframe thead th {\n",
       "        text-align: right;\n",
       "    }\n",
       "</style>\n",
       "<table border=\"1\" class=\"dataframe\">\n",
       "  <thead>\n",
       "    <tr style=\"text-align: right;\">\n",
       "      <th></th>\n",
       "      <th>reg_week</th>\n",
       "      <th>cohort_lifetime</th>\n",
       "      <th>cumsum_revenue</th>\n",
       "    </tr>\n",
       "  </thead>\n",
       "  <tbody>\n",
       "    <tr>\n",
       "      <th>0</th>\n",
       "      <td>2019-12-30</td>\n",
       "      <td>0</td>\n",
       "      <td>24.95</td>\n",
       "    </tr>\n",
       "    <tr>\n",
       "      <th>1</th>\n",
       "      <td>2019-12-30</td>\n",
       "      <td>1</td>\n",
       "      <td>12320.31</td>\n",
       "    </tr>\n",
       "    <tr>\n",
       "      <th>2</th>\n",
       "      <td>2019-12-30</td>\n",
       "      <td>2</td>\n",
       "      <td>22435.04</td>\n",
       "    </tr>\n",
       "    <tr>\n",
       "      <th>3</th>\n",
       "      <td>2019-12-30</td>\n",
       "      <td>3</td>\n",
       "      <td>31357.16</td>\n",
       "    </tr>\n",
       "    <tr>\n",
       "      <th>4</th>\n",
       "      <td>2019-12-30</td>\n",
       "      <td>4</td>\n",
       "      <td>39510.82</td>\n",
       "    </tr>\n",
       "  </tbody>\n",
       "</table>\n",
       "</div>"
      ],
      "text/plain": [
       "    reg_week  cohort_lifetime  cumsum_revenue\n",
       "0 2019-12-30                0           24.95\n",
       "1 2019-12-30                1        12320.31\n",
       "2 2019-12-30                2        22435.04\n",
       "3 2019-12-30                3        31357.16\n",
       "4 2019-12-30                4        39510.82"
      ]
     },
     "execution_count": 166,
     "metadata": {},
     "output_type": "execute_result"
    }
   ],
   "source": [
    "cunsum_revenue_cohorts = data.groupby(['reg_week', 'cohort_lifetime']) \\\n",
    "            .agg({'price' : 'sum'}) \\\n",
    "            .groupby(level=0).cumsum() \\\n",
    "            .reset_index() \\\n",
    "            .rename(columns={'price':'cumsum_revenue'})\n",
    "\n",
    "cunsum_revenue_cohorts.head()\n"
   ]
  },
  {
   "cell_type": "code",
   "execution_count": 168,
   "id": "49c8eeca",
   "metadata": {},
   "outputs": [
    {
     "data": {
      "text/html": [
       "<div>\n",
       "<style scoped>\n",
       "    .dataframe tbody tr th:only-of-type {\n",
       "        vertical-align: middle;\n",
       "    }\n",
       "\n",
       "    .dataframe tbody tr th {\n",
       "        vertical-align: top;\n",
       "    }\n",
       "\n",
       "    .dataframe thead th {\n",
       "        text-align: right;\n",
       "    }\n",
       "</style>\n",
       "<table border=\"1\" class=\"dataframe\">\n",
       "  <thead>\n",
       "    <tr style=\"text-align: right;\">\n",
       "      <th></th>\n",
       "      <th>reg_week</th>\n",
       "      <th>cohort_lifetime</th>\n",
       "      <th>cumsum_revenue</th>\n",
       "      <th>weekly_users</th>\n",
       "    </tr>\n",
       "  </thead>\n",
       "  <tbody>\n",
       "    <tr>\n",
       "      <th>0</th>\n",
       "      <td>2019-12-30</td>\n",
       "      <td>0</td>\n",
       "      <td>24.95</td>\n",
       "      <td>6629</td>\n",
       "    </tr>\n",
       "    <tr>\n",
       "      <th>1</th>\n",
       "      <td>2019-12-30</td>\n",
       "      <td>1</td>\n",
       "      <td>12320.31</td>\n",
       "      <td>6629</td>\n",
       "    </tr>\n",
       "    <tr>\n",
       "      <th>2</th>\n",
       "      <td>2019-12-30</td>\n",
       "      <td>2</td>\n",
       "      <td>22435.04</td>\n",
       "      <td>6629</td>\n",
       "    </tr>\n",
       "    <tr>\n",
       "      <th>3</th>\n",
       "      <td>2019-12-30</td>\n",
       "      <td>3</td>\n",
       "      <td>31357.16</td>\n",
       "      <td>6629</td>\n",
       "    </tr>\n",
       "    <tr>\n",
       "      <th>4</th>\n",
       "      <td>2019-12-30</td>\n",
       "      <td>4</td>\n",
       "      <td>39510.82</td>\n",
       "      <td>6629</td>\n",
       "    </tr>\n",
       "  </tbody>\n",
       "</table>\n",
       "</div>"
      ],
      "text/plain": [
       "    reg_week  cohort_lifetime  cumsum_revenue  weekly_users\n",
       "0 2019-12-30                0           24.95          6629\n",
       "1 2019-12-30                1        12320.31          6629\n",
       "2 2019-12-30                2        22435.04          6629\n",
       "3 2019-12-30                3        31357.16          6629\n",
       "4 2019-12-30                4        39510.82          6629"
      ]
     },
     "execution_count": 168,
     "metadata": {},
     "output_type": "execute_result"
    }
   ],
   "source": [
    "ltv = cunsum_revenue_cohorts.merge(cohort_size, how='left', on='reg_week')\n",
    "ltv.head()"
   ]
  },
  {
   "cell_type": "code",
   "execution_count": 173,
   "id": "c8c0e76f",
   "metadata": {},
   "outputs": [
    {
     "data": {
      "text/html": [
       "<div>\n",
       "<style scoped>\n",
       "    .dataframe tbody tr th:only-of-type {\n",
       "        vertical-align: middle;\n",
       "    }\n",
       "\n",
       "    .dataframe tbody tr th {\n",
       "        vertical-align: top;\n",
       "    }\n",
       "\n",
       "    .dataframe thead th {\n",
       "        text-align: right;\n",
       "    }\n",
       "</style>\n",
       "<table border=\"1\" class=\"dataframe\">\n",
       "  <thead>\n",
       "    <tr style=\"text-align: right;\">\n",
       "      <th></th>\n",
       "      <th>reg_week</th>\n",
       "      <th>cohort_lifetime</th>\n",
       "      <th>cumsum_revenue</th>\n",
       "      <th>weekly_users</th>\n",
       "      <th>ltv</th>\n",
       "    </tr>\n",
       "  </thead>\n",
       "  <tbody>\n",
       "    <tr>\n",
       "      <th>0</th>\n",
       "      <td>2019-12-30</td>\n",
       "      <td>0</td>\n",
       "      <td>24.95</td>\n",
       "      <td>6629</td>\n",
       "      <td>0.00</td>\n",
       "    </tr>\n",
       "    <tr>\n",
       "      <th>1</th>\n",
       "      <td>2019-12-30</td>\n",
       "      <td>1</td>\n",
       "      <td>12320.31</td>\n",
       "      <td>6629</td>\n",
       "      <td>1.86</td>\n",
       "    </tr>\n",
       "    <tr>\n",
       "      <th>2</th>\n",
       "      <td>2019-12-30</td>\n",
       "      <td>2</td>\n",
       "      <td>22435.04</td>\n",
       "      <td>6629</td>\n",
       "      <td>3.38</td>\n",
       "    </tr>\n",
       "    <tr>\n",
       "      <th>3</th>\n",
       "      <td>2019-12-30</td>\n",
       "      <td>3</td>\n",
       "      <td>31357.16</td>\n",
       "      <td>6629</td>\n",
       "      <td>4.73</td>\n",
       "    </tr>\n",
       "    <tr>\n",
       "      <th>4</th>\n",
       "      <td>2019-12-30</td>\n",
       "      <td>4</td>\n",
       "      <td>39510.82</td>\n",
       "      <td>6629</td>\n",
       "      <td>5.96</td>\n",
       "    </tr>\n",
       "  </tbody>\n",
       "</table>\n",
       "</div>"
      ],
      "text/plain": [
       "    reg_week  cohort_lifetime  cumsum_revenue  weekly_users   ltv\n",
       "0 2019-12-30                0           24.95          6629  0.00\n",
       "1 2019-12-30                1        12320.31          6629  1.86\n",
       "2 2019-12-30                2        22435.04          6629  3.38\n",
       "3 2019-12-30                3        31357.16          6629  4.73\n",
       "4 2019-12-30                4        39510.82          6629  5.96"
      ]
     },
     "execution_count": 173,
     "metadata": {},
     "output_type": "execute_result"
    }
   ],
   "source": [
    "ltv['ltv'] = round(ltv['cumsum_revenue'] / ltv['weekly_users'], 2)\n",
    "ltv.head()"
   ]
  },
  {
   "cell_type": "code",
   "execution_count": 184,
   "id": "b164ba3b",
   "metadata": {},
   "outputs": [
    {
     "data": {
      "text/html": [
       "<div>\n",
       "<style scoped>\n",
       "    .dataframe tbody tr th:only-of-type {\n",
       "        vertical-align: middle;\n",
       "    }\n",
       "\n",
       "    .dataframe tbody tr th {\n",
       "        vertical-align: top;\n",
       "    }\n",
       "\n",
       "    .dataframe thead th {\n",
       "        text-align: right;\n",
       "    }\n",
       "</style>\n",
       "<table border=\"1\" class=\"dataframe\">\n",
       "  <thead>\n",
       "    <tr style=\"text-align: right;\">\n",
       "      <th>cohort_lifetime</th>\n",
       "      <th>0</th>\n",
       "      <th>1</th>\n",
       "      <th>2</th>\n",
       "      <th>3</th>\n",
       "      <th>4</th>\n",
       "      <th>5</th>\n",
       "      <th>6</th>\n",
       "      <th>7</th>\n",
       "    </tr>\n",
       "    <tr>\n",
       "      <th>reg_week</th>\n",
       "      <th></th>\n",
       "      <th></th>\n",
       "      <th></th>\n",
       "      <th></th>\n",
       "      <th></th>\n",
       "      <th></th>\n",
       "      <th></th>\n",
       "      <th></th>\n",
       "    </tr>\n",
       "  </thead>\n",
       "  <tbody>\n",
       "    <tr>\n",
       "      <th>2019-12-30</th>\n",
       "      <td>0.0</td>\n",
       "      <td>1.86</td>\n",
       "      <td>3.38</td>\n",
       "      <td>4.73</td>\n",
       "      <td>5.96</td>\n",
       "      <td>7.08</td>\n",
       "      <td>8.09</td>\n",
       "      <td>8.34</td>\n",
       "    </tr>\n",
       "    <tr>\n",
       "      <th>2020-01-06</th>\n",
       "      <td>0.0</td>\n",
       "      <td>1.73</td>\n",
       "      <td>3.14</td>\n",
       "      <td>4.38</td>\n",
       "      <td>5.48</td>\n",
       "      <td>6.48</td>\n",
       "      <td>6.90</td>\n",
       "      <td>NaN</td>\n",
       "    </tr>\n",
       "    <tr>\n",
       "      <th>2020-01-13</th>\n",
       "      <td>0.0</td>\n",
       "      <td>1.69</td>\n",
       "      <td>3.05</td>\n",
       "      <td>4.24</td>\n",
       "      <td>5.29</td>\n",
       "      <td>5.74</td>\n",
       "      <td>NaN</td>\n",
       "      <td>NaN</td>\n",
       "    </tr>\n",
       "    <tr>\n",
       "      <th>2020-01-20</th>\n",
       "      <td>0.0</td>\n",
       "      <td>1.60</td>\n",
       "      <td>2.83</td>\n",
       "      <td>3.87</td>\n",
       "      <td>4.33</td>\n",
       "      <td>NaN</td>\n",
       "      <td>NaN</td>\n",
       "      <td>NaN</td>\n",
       "    </tr>\n",
       "    <tr>\n",
       "      <th>2020-01-27</th>\n",
       "      <td>0.0</td>\n",
       "      <td>1.58</td>\n",
       "      <td>2.83</td>\n",
       "      <td>3.32</td>\n",
       "      <td>NaN</td>\n",
       "      <td>NaN</td>\n",
       "      <td>NaN</td>\n",
       "      <td>NaN</td>\n",
       "    </tr>\n",
       "    <tr>\n",
       "      <th>2020-02-03</th>\n",
       "      <td>0.0</td>\n",
       "      <td>1.57</td>\n",
       "      <td>2.15</td>\n",
       "      <td>NaN</td>\n",
       "      <td>NaN</td>\n",
       "      <td>NaN</td>\n",
       "      <td>NaN</td>\n",
       "      <td>NaN</td>\n",
       "    </tr>\n",
       "    <tr>\n",
       "      <th>2020-02-10</th>\n",
       "      <td>0.0</td>\n",
       "      <td>0.78</td>\n",
       "      <td>NaN</td>\n",
       "      <td>NaN</td>\n",
       "      <td>NaN</td>\n",
       "      <td>NaN</td>\n",
       "      <td>NaN</td>\n",
       "      <td>NaN</td>\n",
       "    </tr>\n",
       "    <tr>\n",
       "      <th>2020-02-17</th>\n",
       "      <td>0.0</td>\n",
       "      <td>NaN</td>\n",
       "      <td>NaN</td>\n",
       "      <td>NaN</td>\n",
       "      <td>NaN</td>\n",
       "      <td>NaN</td>\n",
       "      <td>NaN</td>\n",
       "      <td>NaN</td>\n",
       "    </tr>\n",
       "  </tbody>\n",
       "</table>\n",
       "</div>"
      ],
      "text/plain": [
       "cohort_lifetime    0     1     2     3     4     5     6     7\n",
       "reg_week                                                      \n",
       "2019-12-30       0.0  1.86  3.38  4.73  5.96  7.08  8.09  8.34\n",
       "2020-01-06       0.0  1.73  3.14  4.38  5.48  6.48  6.90   NaN\n",
       "2020-01-13       0.0  1.69  3.05  4.24  5.29  5.74   NaN   NaN\n",
       "2020-01-20       0.0  1.60  2.83  3.87  4.33   NaN   NaN   NaN\n",
       "2020-01-27       0.0  1.58  2.83  3.32   NaN   NaN   NaN   NaN\n",
       "2020-02-03       0.0  1.57  2.15   NaN   NaN   NaN   NaN   NaN\n",
       "2020-02-10       0.0  0.78   NaN   NaN   NaN   NaN   NaN   NaN\n",
       "2020-02-17       0.0   NaN   NaN   NaN   NaN   NaN   NaN   NaN"
      ]
     },
     "execution_count": 184,
     "metadata": {},
     "output_type": "execute_result"
    }
   ],
   "source": [
    "ltv_pivot = ltv.pivot_table(index='reg_week', columns='cohort_lifetime', values='ltv')\n",
    "ltv_pivot"
   ]
  },
  {
   "cell_type": "code",
   "execution_count": 181,
   "id": "02c607e5",
   "metadata": {},
   "outputs": [
    {
     "data": {
      "image/png": "[encoded data removed]",
      "text/plain": [
       "<Figure size 720x504 with 2 Axes>"
      ]
     },
     "metadata": {
      "needs_background": "light"
     },
     "output_type": "display_data"
    }
   ],
   "source": [
    "plt.figure(figsize=(10, 7))\n",
    "plt.title('Average LTV per Cohorts')\n",
    "sns.heatmap(ltv_pivot, annot=True, \n",
    "            fmt='.2f', linewidths=1, linecolor='black'); "
   ]
  },
  {
   "cell_type": "code",
   "execution_count": null,
   "id": "5cab0565",
   "metadata": {},
   "outputs": [],
   "source": []
  },
  {
   "cell_type": "code",
   "execution_count": null,
   "id": "b08336ea",
   "metadata": {},
   "outputs": [],
   "source": [
    "# #Создадим датафоейм, содержащий информацию о среднем значении LTV и номер когорты, соотвествующий неделе подписки.\n",
    "# LTV_by_week = report.groupby(['cohort_lifetime'])\\\n",
    "#                     .agg({'LTV':'mean'}).reset_index()"
   ]
  },
  {
   "cell_type": "code",
   "execution_count": 188,
   "id": "aa8957a9",
   "metadata": {},
   "outputs": [
    {
     "data": {
      "text/html": [
       "<div>\n",
       "<style scoped>\n",
       "    .dataframe tbody tr th:only-of-type {\n",
       "        vertical-align: middle;\n",
       "    }\n",
       "\n",
       "    .dataframe tbody tr th {\n",
       "        vertical-align: top;\n",
       "    }\n",
       "\n",
       "    .dataframe thead th {\n",
       "        text-align: right;\n",
       "    }\n",
       "</style>\n",
       "<table border=\"1\" class=\"dataframe\">\n",
       "  <thead>\n",
       "    <tr style=\"text-align: right;\">\n",
       "      <th></th>\n",
       "      <th>cohort_lifetime</th>\n",
       "      <th>ltv</th>\n",
       "    </tr>\n",
       "  </thead>\n",
       "  <tbody>\n",
       "    <tr>\n",
       "      <th>0</th>\n",
       "      <td>0</td>\n",
       "      <td>0.000000</td>\n",
       "    </tr>\n",
       "    <tr>\n",
       "      <th>1</th>\n",
       "      <td>1</td>\n",
       "      <td>1.544286</td>\n",
       "    </tr>\n",
       "    <tr>\n",
       "      <th>2</th>\n",
       "      <td>2</td>\n",
       "      <td>2.896667</td>\n",
       "    </tr>\n",
       "    <tr>\n",
       "      <th>3</th>\n",
       "      <td>3</td>\n",
       "      <td>4.108000</td>\n",
       "    </tr>\n",
       "    <tr>\n",
       "      <th>4</th>\n",
       "      <td>4</td>\n",
       "      <td>5.265000</td>\n",
       "    </tr>\n",
       "    <tr>\n",
       "      <th>5</th>\n",
       "      <td>5</td>\n",
       "      <td>6.433333</td>\n",
       "    </tr>\n",
       "    <tr>\n",
       "      <th>6</th>\n",
       "      <td>6</td>\n",
       "      <td>7.495000</td>\n",
       "    </tr>\n",
       "    <tr>\n",
       "      <th>7</th>\n",
       "      <td>7</td>\n",
       "      <td>8.340000</td>\n",
       "    </tr>\n",
       "  </tbody>\n",
       "</table>\n",
       "</div>"
      ],
      "text/plain": [
       "   cohort_lifetime       ltv\n",
       "0                0  0.000000\n",
       "1                1  1.544286\n",
       "2                2  2.896667\n",
       "3                3  4.108000\n",
       "4                4  5.265000\n",
       "5                5  6.433333\n",
       "6                6  7.495000\n",
       "7                7  8.340000"
      ]
     },
     "execution_count": 188,
     "metadata": {},
     "output_type": "execute_result"
    }
   ],
   "source": [
    "weekly_ltv = ltv.groupby('cohort_lifetime')\\\n",
    "                .agg({'ltv' : 'mean'}).reset_index()\n",
    "weekly_ltv"
   ]
  },
  {
   "cell_type": "code",
   "execution_count": null,
   "id": "b2291faa",
   "metadata": {},
   "outputs": [],
   "source": [
    "# LTV_by_week.rename(columns={'cohort_lifetime':'w', 'LTV':'y'}, inplace=True)\n",
    "# plt.scatter(LTV_by_week['w'], LTV_by_week['y'])\n",
    "# plt.title('LTV by subscription week')\n",
    "# plt.xlabel('Weeks')\n",
    "# plt.ylabel('LTV')"
   ]
  },
  {
   "cell_type": "code",
   "execution_count": 190,
   "id": "4290d8b0",
   "metadata": {},
   "outputs": [
    {
     "data": {
      "text/plain": [
       "<matplotlib.collections.PathCollection at 0x7f90ee7a0310>"
      ]
     },
     "execution_count": 190,
     "metadata": {},
     "output_type": "execute_result"
    },
    {
     "data": {
      "image/png": "[encoded data removed]",
      "text/plain": [
       "<Figure size 432x288 with 1 Axes>"
      ]
     },
     "metadata": {
      "needs_background": "light"
     },
     "output_type": "display_data"
    }
   ],
   "source": [
    "plt.scatter(x=weekly_ltv.cohort_lifetime, y=weekly_ltv.ltv)"
   ]
  },
  {
   "cell_type": "code",
   "execution_count": 220,
   "id": "9021d72a",
   "metadata": {},
   "outputs": [],
   "source": [
    "# Let's try to predict future ltv with simple log\n",
    "x = weekly_ltv.cohort_lifetime\n",
    "y = weekly_ltv.ltv"
   ]
  },
  {
   "cell_type": "code",
   "execution_count": 221,
   "id": "3f12d647",
   "metadata": {},
   "outputs": [],
   "source": [
    "X_l = weekly_ltv[weekly_ltv['cohort_lifetime'] !=0 ].cohort_lifetime\n",
    "Y_l = round(weekly_ltv[weekly_ltv['cohort_lifetime'] !=0 ].ltv, 2)"
   ]
  },
  {
   "cell_type": "code",
   "execution_count": 222,
   "id": "f227e3a8",
   "metadata": {},
   "outputs": [
    {
     "data": {
      "text/plain": [
       "1    1.54\n",
       "2    2.90\n",
       "3    4.11\n",
       "4    5.26\n",
       "5    6.43\n",
       "6    7.50\n",
       "7    8.34\n",
       "Name: ltv, dtype: float64"
      ]
     },
     "execution_count": 222,
     "metadata": {},
     "output_type": "execute_result"
    }
   ],
   "source": [
    "Y_l"
   ]
  },
  {
   "cell_type": "code",
   "execution_count": 223,
   "id": "b21a2591",
   "metadata": {},
   "outputs": [
    {
     "name": "stdout",
     "output_type": "stream",
     "text": [
      "[0.87286874 3.51546646]\n"
     ]
    }
   ],
   "source": [
    "# find optimal coef for function a + b * np.log(t) , where t is number of the week\n",
    "coefs_l, cov = optimize.curve_fit(lambda t,a,b: a + b * np.log(t),  X_l,  Y_l, maxfev=1000)\n",
    "print(coefs_l)"
   ]
  },
  {
   "cell_type": "code",
   "execution_count": 302,
   "id": "bc7aa655",
   "metadata": {},
   "outputs": [],
   "source": []
  },
  {
   "cell_type": "code",
   "execution_count": null,
   "id": "177814eb",
   "metadata": {},
   "outputs": [],
   "source": []
  },
  {
   "cell_type": "code",
   "execution_count": 268,
   "id": "7d3b8d5d",
   "metadata": {},
   "outputs": [],
   "source": [
    "def ltv_function(time):\n",
    "    result = coefs_l[0] + coefs_l[1] * np.log(time)\n",
    "    return result"
   ]
  },
  {
   "cell_type": "code",
   "execution_count": 269,
   "id": "dac0776e",
   "metadata": {},
   "outputs": [
    {
     "data": {
      "text/plain": [
       "1    1\n",
       "2    2\n",
       "3    3\n",
       "4    4\n",
       "5    5\n",
       "6    6\n",
       "7    7\n",
       "Name: cohort_lifetime, dtype: int64"
      ]
     },
     "execution_count": 269,
     "metadata": {},
     "output_type": "execute_result"
    }
   ],
   "source": [
    "weekly_ltv.cohort_lifetime[1:]"
   ]
  },
  {
   "cell_type": "code",
   "execution_count": 270,
   "id": "a5715f53",
   "metadata": {},
   "outputs": [
    {
     "data": {
      "text/plain": [
       "1    0.872869\n",
       "2    3.309604\n",
       "3    4.735003\n",
       "4    5.746340\n",
       "5    6.530794\n",
       "6    7.171739\n",
       "7    7.713651\n",
       "Name: cohort_lifetime, dtype: float64"
      ]
     },
     "execution_count": 270,
     "metadata": {},
     "output_type": "execute_result"
    }
   ],
   "source": [
    "ltv_function(weekly_ltv.cohort_lifetime[1:])"
   ]
  },
  {
   "cell_type": "code",
   "execution_count": 206,
   "id": "cdc2f1a3",
   "metadata": {},
   "outputs": [
    {
     "name": "stdout",
     "output_type": "stream",
     "text": [
      "LTV (week 8) : 8.183075736196537\n",
      "LTV (week 9) : 8.597138047675603\n",
      "LTV (week 26) : 12.326597844468163\n"
     ]
    }
   ],
   "source": [
    "ltv_8 = coefs_l[0] + coefs_l[1] * np.log(8)  # prediction of the ltv for week 8\n",
    "ltv_9 = coefs_l[0] + coefs_l[1] * np.log(9)  # prediction of the ltv for week 9\n",
    "ltv_26 = coefs_l[0] + coefs_l[1] * np.log(26)  # prediction of the ltv for week 26 (half of the year)\n",
    "\n",
    "print('LTV (week 8) :', ltv_8)\n",
    "print('LTV (week 9) :', ltv_9)\n",
    "print('LTV (week 26) :', ltv_26)"
   ]
  },
  {
   "cell_type": "code",
   "execution_count": null,
   "id": "e98490cf",
   "metadata": {},
   "outputs": [],
   "source": []
  },
  {
   "cell_type": "code",
   "execution_count": 295,
   "id": "f5398991",
   "metadata": {},
   "outputs": [],
   "source": [
    "weeks = np.hstack([weekly_ltv.cohort_lifetime,[8,9,12,15,18,26]])"
   ]
  },
  {
   "cell_type": "code",
   "execution_count": 296,
   "id": "e510723f",
   "metadata": {},
   "outputs": [
    {
     "data": {
      "text/plain": [
       "Text(0, 0.5, 'LTV')"
      ]
     },
     "execution_count": 296,
     "metadata": {},
     "output_type": "execute_result"
    },
    {
     "data": {
      "image/png": "[encoded data removed]",
      "text/plain": [
       "<Figure size 432x288 with 1 Axes>"
      ]
     },
     "metadata": {
      "needs_background": "light"
     },
     "output_type": "display_data"
    }
   ],
   "source": [
    "plt.scatter(x[1:], y[1:])\n",
    "plt.plot(weeks[1:], ltv_function(weeks[1:]))\n",
    "plt.title('Prediction of LTV')\n",
    "plt.xlabel('Week')\n",
    "plt.ylabel('LTV')"
   ]
  },
  {
   "cell_type": "code",
   "execution_count": 291,
   "id": "19724a77",
   "metadata": {},
   "outputs": [
    {
     "data": {
      "text/plain": [
       "array([ 0,  1,  2,  3,  4,  5,  6,  7,  8,  9, 26])"
      ]
     },
     "execution_count": 291,
     "metadata": {},
     "output_type": "execute_result"
    }
   ],
   "source": [
    "# для прогнозирования при помощи prophet введем новую колонку с данными по дате\n",
    "LTV_by_week['data'] = pd.to_datetime( LTV_by_week['w'] * 7, origin='2019-12-26', unit='d')"
   ]
  },
  {
   "cell_type": "code",
   "execution_count": 304,
   "id": "41ef1e5d",
   "metadata": {},
   "outputs": [
    {
     "data": {
      "text/html": [
       "<div>\n",
       "<style scoped>\n",
       "    .dataframe tbody tr th:only-of-type {\n",
       "        vertical-align: middle;\n",
       "    }\n",
       "\n",
       "    .dataframe tbody tr th {\n",
       "        vertical-align: top;\n",
       "    }\n",
       "\n",
       "    .dataframe thead th {\n",
       "        text-align: right;\n",
       "    }\n",
       "</style>\n",
       "<table border=\"1\" class=\"dataframe\">\n",
       "  <thead>\n",
       "    <tr style=\"text-align: right;\">\n",
       "      <th></th>\n",
       "      <th>cohort_lifetime</th>\n",
       "      <th>ltv</th>\n",
       "      <th>date</th>\n",
       "    </tr>\n",
       "  </thead>\n",
       "  <tbody>\n",
       "    <tr>\n",
       "      <th>0</th>\n",
       "      <td>0</td>\n",
       "      <td>0.000000</td>\n",
       "      <td>2019-12-30</td>\n",
       "    </tr>\n",
       "    <tr>\n",
       "      <th>1</th>\n",
       "      <td>1</td>\n",
       "      <td>1.544286</td>\n",
       "      <td>2020-01-06</td>\n",
       "    </tr>\n",
       "    <tr>\n",
       "      <th>2</th>\n",
       "      <td>2</td>\n",
       "      <td>2.896667</td>\n",
       "      <td>2020-01-13</td>\n",
       "    </tr>\n",
       "    <tr>\n",
       "      <th>3</th>\n",
       "      <td>3</td>\n",
       "      <td>4.108000</td>\n",
       "      <td>2020-01-20</td>\n",
       "    </tr>\n",
       "    <tr>\n",
       "      <th>4</th>\n",
       "      <td>4</td>\n",
       "      <td>5.265000</td>\n",
       "      <td>2020-01-27</td>\n",
       "    </tr>\n",
       "    <tr>\n",
       "      <th>5</th>\n",
       "      <td>5</td>\n",
       "      <td>6.433333</td>\n",
       "      <td>2020-02-03</td>\n",
       "    </tr>\n",
       "    <tr>\n",
       "      <th>6</th>\n",
       "      <td>6</td>\n",
       "      <td>7.495000</td>\n",
       "      <td>2020-02-10</td>\n",
       "    </tr>\n",
       "    <tr>\n",
       "      <th>7</th>\n",
       "      <td>7</td>\n",
       "      <td>8.340000</td>\n",
       "      <td>2020-02-17</td>\n",
       "    </tr>\n",
       "  </tbody>\n",
       "</table>\n",
       "</div>"
      ],
      "text/plain": [
       "   cohort_lifetime       ltv       date\n",
       "0                0  0.000000 2019-12-30\n",
       "1                1  1.544286 2020-01-06\n",
       "2                2  2.896667 2020-01-13\n",
       "3                3  4.108000 2020-01-20\n",
       "4                4  5.265000 2020-01-27\n",
       "5                5  6.433333 2020-02-03\n",
       "6                6  7.495000 2020-02-10\n",
       "7                7  8.340000 2020-02-17"
      ]
     },
     "execution_count": 304,
     "metadata": {},
     "output_type": "execute_result"
    }
   ],
   "source": [
    "# add date for our cohorts\n",
    "weekly_ltv['date'] = ltv.reg_week.unique()\n",
    "weekly_ltv"
   ]
  },
  {
   "cell_type": "code",
   "execution_count": null,
   "id": "6882b6f6",
   "metadata": {},
   "outputs": [],
   "source": [
    "# LTV for 4th week\n",
    "# ROMI = (LTV(t) - investment) / investment х 100%"
   ]
  },
  {
   "cell_type": "code",
   "execution_count": 451,
   "id": "4b547ff4",
   "metadata": {},
   "outputs": [
    {
     "name": "stdout",
     "output_type": "stream",
     "text": [
      "LTV for 4th week: 4.108\n"
     ]
    }
   ],
   "source": [
    "print('LTV for 4th week:', weekly_ltv['ltv'][3])"
   ]
  },
  {
   "cell_type": "code",
   "execution_count": 456,
   "id": "daba3a94",
   "metadata": {},
   "outputs": [],
   "source": [
    "ltv_week_4 = weekly_ltv['ltv'][3]\n",
    "investment = 6\n",
    "ROMI_4 = (ltv_week_4 - investment)/investment *100"
   ]
  },
  {
   "cell_type": "code",
   "execution_count": 459,
   "id": "6334afe0",
   "metadata": {},
   "outputs": [
    {
     "name": "stdout",
     "output_type": "stream",
     "text": [
      "ROMI of the 4th week: -31.53%\n"
     ]
    }
   ],
   "source": [
    "print('ROMI of the 4th week: {ROMI:.2f}%'.format(ROMI=ROMI_4))"
   ]
  },
  {
   "cell_type": "code",
   "execution_count": null,
   "id": "07988650",
   "metadata": {
    "scrolled": true
   },
   "outputs": [],
   "source": [
    "# Only after 6th week we will have positive ROMI. ROMI will be +7.16%"
   ]
  },
  {
   "cell_type": "code",
   "execution_count": 461,
   "id": "ed0ffebb",
   "metadata": {},
   "outputs": [
    {
     "data": {
      "text/plain": [
       "4.108"
      ]
     },
     "execution_count": 461,
     "metadata": {},
     "output_type": "execute_result"
    }
   ],
   "source": [
    "weekly_ltv['ltv'][3]"
   ]
  },
  {
   "cell_type": "code",
   "execution_count": 462,
   "id": "dd5a9e70",
   "metadata": {},
   "outputs": [
    {
     "data": {
      "text/plain": [
       "2.65"
      ]
     },
     "execution_count": 462,
     "metadata": {},
     "output_type": "execute_result"
    }
   ],
   "source": [
    "(2.3+3)/2"
   ]
  },
  {
   "cell_type": "code",
   "execution_count": null,
   "id": "50b04318",
   "metadata": {},
   "outputs": [],
   "source": []
  },
  {
   "cell_type": "code",
   "execution_count": null,
   "id": "ea24ef6d",
   "metadata": {
    "scrolled": true
   },
   "outputs": [],
   "source": []
  },
  {
   "cell_type": "code",
   "execution_count": null,
   "id": "29037cdd",
   "metadata": {},
   "outputs": [],
   "source": []
  },
  {
   "cell_type": "code",
   "execution_count": null,
   "id": "5cba20b5",
   "metadata": {
    "scrolled": true
   },
   "outputs": [],
   "source": []
  },
  {
   "cell_type": "code",
   "execution_count": null,
   "id": "0e6d40d9",
   "metadata": {},
   "outputs": [],
   "source": []
  },
  {
   "cell_type": "code",
   "execution_count": null,
   "id": "566a9214",
   "metadata": {},
   "outputs": [],
   "source": [
    "\n"
   ]
  },
  {
   "cell_type": "code",
   "execution_count": null,
   "id": "4f3e7ee2",
   "metadata": {},
   "outputs": [],
   "source": []
  },
  {
   "cell_type": "code",
   "execution_count": null,
   "id": "914fabc9",
   "metadata": {},
   "outputs": [],
   "source": []
  },
  {
   "cell_type": "code",
   "execution_count": null,
   "id": "e74cf483",
   "metadata": {},
   "outputs": [],
   "source": []
  }
 ],
 "metadata": {
  "kernelspec": {
   "display_name": "Python 3 (ipykernel)",
   "language": "python",
   "name": "python3"
  },
  "language_info": {
   "codemirror_mode": {
    "name": "ipython",
    "version": 3
   },
   "file_extension": ".py",
   "mimetype": "text/x-python",
   "name": "python",
   "nbconvert_exporter": "python",
   "pygments_lexer": "ipython3",
   "version": "3.8.5"
  }
 },
 "nbformat": 4,
 "nbformat_minor": 5
}
